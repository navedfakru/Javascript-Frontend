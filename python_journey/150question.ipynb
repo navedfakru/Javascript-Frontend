{
 "cells": [
  {
   "cell_type": "markdown",
   "metadata": {},
   "source": [
    "# 1. Formatted Twinkle Poem\n",
    "\n",
    "- Write a Python program to print the following string in a specific format (see the output).\n",
    "- Sample String : \"Twinkle, twinkle, little star, How I wonder what you are! Up above the world so high, Like a diamond in the sky. Twinkle, twinkle, little star, How I wonder what you are\"\n"
   ]
  },
  {
   "cell_type": "code",
   "execution_count": null,
   "metadata": {},
   "outputs": [],
   "source": [
    "poem = \"Twinkle, twinkle, little star,\\n\\tHow I wonder what you are!\\n\\t\\tUp above the world so high,\\n\\t\\tLike a diamond in the sky.\\nTwinkle, twinkle, little star,\\n\\tHow I wonder what you are!\"\n",
    "print(poem)"
   ]
  },
  {
   "cell_type": "markdown",
   "metadata": {
    "vscode": {
     "languageId": "javascript"
    }
   },
   "source": [
    "Write a Python program to find out what version of Python you are using."
   ]
  },
  {
   "cell_type": "code",
   "execution_count": null,
   "metadata": {},
   "outputs": [],
   "source": [
    "import sys\n",
    "print(sys.version_info)\n",
    "print(sys.version)"
   ]
  },
  {
   "cell_type": "markdown",
   "metadata": {},
   "source": [
    "### 3. Current DateTime Display\n",
    "- Write a Python program to display the current date and time.\n",
    "- Sample Output :\n",
    "- Current date and time :\n",
    "- 2014-07-05 14:34:14"
   ]
  },
  {
   "cell_type": "code",
   "execution_count": 6,
   "metadata": {},
   "outputs": [
    {
     "name": "stdout",
     "output_type": "stream",
     "text": [
      "2024-12-30 20:23:31.532936\n"
     ]
    }
   ],
   "source": [
    "import datetime\n",
    "print(datetime.datetime.now(tz=None))"
   ]
  },
  {
   "cell_type": "markdown",
   "metadata": {},
   "source": [
    "### 4. Circle Area Calculator\n",
    "<p>Write a Python program that calculates the area of a circle based on the radius entered by the user.</br>\n",
    "Sample Output :</br>\n",
    "r = 1.1</br>\n",
    "Area = 3.8013271108436504</P>"
   ]
  },
  {
   "cell_type": "code",
   "execution_count": 8,
   "metadata": {},
   "outputs": [
    {
     "name": "stdout",
     "output_type": "stream",
     "text": [
      "Area = 3.8013271108436504\n"
     ]
    }
   ],
   "source": [
    "import math\n",
    "r = float(input(\"Enter of radius: \"))\n",
    "area = math.pi * (r ** 2)\n",
    "print(f\"Area = {area}\")"
   ]
  },
  {
   "cell_type": "markdown",
   "metadata": {},
   "source": [
    "### 5. Reverse Full Name\n",
    "<p>Write a Python program that accepts the user's first and last name and prints them in</br> reverse order with a space between them.</p>"
   ]
  },
  {
   "cell_type": "code",
   "execution_count": 10,
   "metadata": {},
   "outputs": [
    {
     "name": "stdout",
     "output_type": "stream",
     "text": [
      "Ali Naved\n"
     ]
    }
   ],
   "source": [
    "fname = input(\"Enter your first name: \")\n",
    "lname = input(\"Enter your lirst name: \")\n",
    "print(f\"{lname} {fname}\")"
   ]
  },
  {
   "cell_type": "markdown",
   "metadata": {},
   "source": [
    "### 6. List and Tuple Generator\n",
    "\n",
    "<p>Write a Python program that accepts a sequence of comma-separated numbers from the user and generates a list and a tuple of those numbers.</br>\n",
    "Sample data : 3, 5, 7, 23</br>\n",
    "Output :</br>\n",
    "List : ['3', ' 5', ' 7', ' 23']</br>\n",
    "Tuple : ('3', ' 5', ' 7', ' 23')</p>"
   ]
  },
  {
   "cell_type": "code",
   "execution_count": 2,
   "metadata": {},
   "outputs": [
    {
     "name": "stdout",
     "output_type": "stream",
     "text": [
      "List: ['1', '2', '3', '34']\n",
      "Tuple: ('1', '2', '3', '34')\n"
     ]
    }
   ],
   "source": [
    "values = input(\"Input some comma sperated number: \")\n",
    "list = values.split(',')\n",
    "tuple = tuple(list)\n",
    "print(f\"List: {list}\")\n",
    "print(f\"Tuple: {tuple}\")"
   ]
  },
  {
   "cell_type": "markdown",
   "metadata": {},
   "source": [
    "### 7. File Extension Extractor\n",
    "\n",
    "<p>Write a Python program that accepts a filename from the user and prints the extension of the file.<br>\n",
    "Sample filename : abc.java<br>\n",
    "Output : java</p>"
   ]
  },
  {
   "cell_type": "code",
   "execution_count": 4,
   "metadata": {},
   "outputs": [
    {
     "name": "stdout",
     "output_type": "stream",
     "text": [
      "The extension of the file is: 'py'\n"
     ]
    }
   ],
   "source": [
    "flilname = input(\"Input the filname: \")\n",
    "f_extns = flilname.split('.')\n",
    "print(f\"The extension of the file is: {repr(f_extns[-1])}\")"
   ]
  },
  {
   "cell_type": "markdown",
   "metadata": {},
   "source": [
    "### 8. First and Last Colors\n",
    "\n",
    "<p>Write a Python program to display the first and last colors from the following list.<br>\n",
    "color_list = [\"Red\",\"Green\",\"White\" ,\"Black\"]</p>"
   ]
  },
  {
   "cell_type": "code",
   "execution_count": 9,
   "metadata": {},
   "outputs": [
    {
     "name": "stdout",
     "output_type": "stream",
     "text": [
      "Red Black\n"
     ]
    }
   ],
   "source": [
    "color_list = [\"Red\", \"Green\", \"White\", \"Black\"]\n",
    "print(f\"{color_list[0]} {color_list[-1]}\")"
   ]
  },
  {
   "cell_type": "markdown",
   "metadata": {},
   "source": [
    "### 9. Exam Schedule Formatter\n",
    "\n",
    "<p>Write a Python program to display the examination schedule. (extract the date from exam_st_date).<br>\n",
    "exam_st_date = (11, 12, 2014)<br>\n",
    "Sample Output : The examination will start from : 11 / 12 / 2014</p>"
   ]
  },
  {
   "cell_type": "code",
   "execution_count": 10,
   "metadata": {},
   "outputs": [
    {
     "name": "stdout",
     "output_type": "stream",
     "text": [
      "The examination will start from: 11 / 12 / 2014\n"
     ]
    }
   ],
   "source": [
    "exam_st_date = (11, 12, 2014)\n",
    "print(\"The examination will start from: %i / %i / %i\" % exam_st_date)"
   ]
  },
  {
   "cell_type": "markdown",
   "metadata": {},
   "source": [
    "### 10. Number Expansion Calculator\n",
    "\n",
    "<p>Write a Python program that accepts an integer (n) and computes the value of n+nn+nnn.<br>\n",
    "Sample value of n is 5<br>\n",
    "Expected Result : 615<p>"
   ]
  },
  {
   "cell_type": "code",
   "execution_count": 15,
   "metadata": {},
   "outputs": [
    {
     "name": "stdout",
     "output_type": "stream",
     "text": [
      "615\n"
     ]
    }
   ],
   "source": [
    "n = int(input(\"Enter value of n: \"))\n",
    "n1 = str(n)\n",
    "n2 = str(n) * 2\n",
    "n3 = str(n) * 3\n",
    "print(int(n1) + int(n2) + int(n3))"
   ]
  },
  {
   "cell_type": "markdown",
   "metadata": {},
   "source": [
    "### 11. Function Documentation Printer\n",
    "<p>Write a Python program to print the documents (syntax, description etc.) of Python built-in function(s).<br>\n",
    "Sample function : abs()<br>\n",
    "Expected Result :<br>\n",
    "abs(number) -> number<br>\n",
    "Return the absolute value of the argument.</p>"
   ]
  },
  {
   "cell_type": "code",
   "execution_count": null,
   "metadata": {},
   "outputs": [],
   "source": []
  }
 ],
 "metadata": {
  "kernelspec": {
   "display_name": "Python 3",
   "language": "python",
   "name": "python3"
  },
  "language_info": {
   "codemirror_mode": {
    "name": "ipython",
    "version": 3
   },
   "file_extension": ".py",
   "mimetype": "text/x-python",
   "name": "python",
   "nbconvert_exporter": "python",
   "pygments_lexer": "ipython3",
   "version": "3.13.0"
  }
 },
 "nbformat": 4,
 "nbformat_minor": 2
}
